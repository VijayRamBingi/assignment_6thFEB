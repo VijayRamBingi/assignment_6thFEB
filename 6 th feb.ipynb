{
 "cells": [
  {
   "cell_type": "markdown",
   "id": "95a9bb10-2c9f-4604-8243-54de1e62b70d",
   "metadata": {},
   "source": [
    "#### Q1. Create a function which will take a list as an argument and return the product of all the numbers after creating a flat list. Use the below-given list as an argument for your function. \n",
    "list1 = [1,2,3,4, [44,55,66, True], False, (34,56,78,89,34), {1,2,3,3,2,1}, {1:34, \"key2\": [55, 67, 78, 89], 4: (45,\n",
    "22, 61, 34)}, [56, 'data science'], 'Machine Learning']\n",
    " \n",
    " #####Note: you must extract numeric keys and values of the dictionary also."
   ]
  },
  {
   "cell_type": "code",
   "execution_count": null,
   "id": "a0bde95b-d4f0-4ccb-9c22-870732ee0a27",
   "metadata": {},
   "outputs": [],
   "source": [
    "def calculate_product(lst):\n",
    "    product = 1\n",
    "    for i in lst:\n",
    "        if isinstance(i, (int, float)):\n",
    "            product *= item\n",
    "        elif isinstance(i, (list, tuple, set, dict)):\n",
    "            product *= calculate_product(item)\n",
    "    return product\n",
    "\n",
    "# Given list\n",
    "list1 = [1, 2, 3, 4, [44, 55, 66, True], False, (34, 56, 78, 89, 34), {1, 2, 3, 3, 2, 1}, {1: 34, \"key2\": [55, 67, 78, 89], 4: (45, 22, 61, 34)}, [56, 'data science'], 'Machine Learning']\n",
    "\n",
    "# Calculate and print the product\n",
    "result = calculate_product(list1)\n",
    "print(\"Product of numeric values:\", result) "
   ]
  },
  {
   "cell_type": "code",
   "execution_count": null,
   "id": "3bb6bc37-03b2-4eb6-a930-2cad034f3930",
   "metadata": {},
   "outputs": [],
   "source": []
  },
  {
   "cell_type": "code",
   "execution_count": null,
   "id": "79da27c7-6f6c-41a7-a57f-e130581697e2",
   "metadata": {},
   "outputs": [],
   "source": []
  },
  {
   "cell_type": "markdown",
   "id": "f6a42f93-bbc8-4ebf-9f7f-50251921a123",
   "metadata": {},
   "source": [
    "#### 2 ) Write a python program for encrypting a message sent to you by your friend. The logic of encryption should be such that, for a the output should be z. For b, the output should be y. For c, the output should be x respectively. Also, the whitespace should be replaced with a dollar sign. Keep the punctuation marks unchanged. \n",
    "\n",
    "Input Sentence: I want to become a Data Scientist.\n"
   ]
  },
  {
   "cell_type": "markdown",
   "id": "d592550c-1869-43b0-97cf-040c5d3847eb",
   "metadata": {},
   "source": [
    "##### Encrypt the above input sentence using the program you just created.\n",
    "##### Note: Convert the given input sentence into lowercase before encrypting. The final output should be lowercase."
   ]
  },
  {
   "cell_type": "code",
   "execution_count": 19,
   "id": "645dd4e4-a968-45fe-843b-324daa73e23c",
   "metadata": {},
   "outputs": [
    {
     "name": "stdout",
     "output_type": "stream",
     "text": [
      "r$dzmg$gl$yvxlnv$z$wzgz$hxrvmgrhg.\n"
     ]
    }
   ],
   "source": [
    "def encrypt_message(message):\n",
    "    encrypt_dict = {\n",
    "        'a': 'z', 'b': 'y', 'c': 'x', 'd': 'w', 'e': 'v', 'f': 'u', 'g': 't',\n",
    "        'h': 's', 'i': 'r', 'j': 'q', 'k': 'p', 'l': 'o', 'm': 'n', 'n': 'm',\n",
    "        'o': 'l', 'p': 'k', 'q': 'j', 'r': 'i', 's': 'h', 't': 'g', 'u': 'f',\n",
    "        'v': 'e', 'w': 'd', 'x': 'c', 'y': 'b', 'z': 'a', ' ': '$'\n",
    "    }\n",
    "    \n",
    "    encrypted_message = ''\n",
    "    for char in message:\n",
    "        if char in encrypt_dict:\n",
    "            encrypted_message += encrypt_dict[char]\n",
    "        else:\n",
    "            encrypted_message += char\n",
    "    \n",
    "    return encrypted_message\n",
    "\n",
    "input= \"I want to become a Data Scientist.\"\n",
    "in_lower = input.lower()\n",
    "op_encrypted = encrypt_message(in_lower)\n",
    "print(op_encrypted)\n"
   ]
  },
  {
   "cell_type": "code",
   "execution_count": null,
   "id": "d00c3700-ddbe-4d54-a8b3-10ab7e71de00",
   "metadata": {},
   "outputs": [],
   "source": []
  },
  {
   "cell_type": "code",
   "execution_count": null,
   "id": "5a10c724-882a-409c-b12b-8568258ba570",
   "metadata": {},
   "outputs": [],
   "source": []
  }
 ],
 "metadata": {
  "kernelspec": {
   "display_name": "Python 3 (ipykernel)",
   "language": "python",
   "name": "python3"
  },
  "language_info": {
   "codemirror_mode": {
    "name": "ipython",
    "version": 3
   },
   "file_extension": ".py",
   "mimetype": "text/x-python",
   "name": "python",
   "nbconvert_exporter": "python",
   "pygments_lexer": "ipython3",
   "version": "3.10.8"
  }
 },
 "nbformat": 4,
 "nbformat_minor": 5
}
